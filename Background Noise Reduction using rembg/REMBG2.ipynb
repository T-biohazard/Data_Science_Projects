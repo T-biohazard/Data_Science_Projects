{
 "cells": [
  {
   "cell_type": "code",
   "execution_count": 1,
   "metadata": {},
   "outputs": [
    {
     "name": "stdout",
     "output_type": "stream",
     "text": [
      "Requirement already satisfied: rembg in c:\\users\\motah\\appdata\\local\\programs\\python\\python311\\lib\\site-packages (2.0.52)Note: you may need to restart the kernel to use updated packages.\n"
     ]
    },
    {
     "name": "stderr",
     "output_type": "stream",
     "text": [
      "\n",
      "[notice] A new release of pip is available: 23.0.1 -> 23.3.1\n",
      "[notice] To update, run: python.exe -m pip install --upgrade pip\n"
     ]
    },
    {
     "name": "stdout",
     "output_type": "stream",
     "text": [
      "\n",
      "Requirement already satisfied: jsonschema in c:\\users\\motah\\appdata\\local\\programs\\python\\python311\\lib\\site-packages (from rembg) (4.17.3)\n",
      "Requirement already satisfied: numpy in c:\\users\\motah\\appdata\\local\\programs\\python\\python311\\lib\\site-packages (from rembg) (1.26.2)\n",
      "Requirement already satisfied: onnxruntime in c:\\users\\motah\\appdata\\local\\programs\\python\\python311\\lib\\site-packages (from rembg) (1.16.3)\n",
      "Requirement already satisfied: opencv-python-headless in c:\\users\\motah\\appdata\\local\\programs\\python\\python311\\lib\\site-packages (from rembg) (4.8.1.78)\n",
      "Requirement already satisfied: pillow in c:\\users\\motah\\appdata\\local\\programs\\python\\python311\\lib\\site-packages (from rembg) (9.4.0)\n",
      "Requirement already satisfied: pooch in c:\\users\\motah\\appdata\\local\\programs\\python\\python311\\lib\\site-packages (from rembg) (1.8.0)\n",
      "Requirement already satisfied: pymatting in c:\\users\\motah\\appdata\\local\\programs\\python\\python311\\lib\\site-packages (from rembg) (1.1.12)\n",
      "Requirement already satisfied: scikit-image in c:\\users\\motah\\appdata\\local\\programs\\python\\python311\\lib\\site-packages (from rembg) (0.22.0)\n",
      "Requirement already satisfied: scipy in c:\\users\\motah\\appdata\\local\\programs\\python\\python311\\lib\\site-packages (from rembg) (1.10.1)\n",
      "Requirement already satisfied: tqdm in c:\\users\\motah\\appdata\\local\\programs\\python\\python311\\lib\\site-packages (from rembg) (4.66.1)\n",
      "Requirement already satisfied: attrs>=17.4.0 in c:\\users\\motah\\appdata\\local\\programs\\python\\python311\\lib\\site-packages (from jsonschema->rembg) (22.2.0)\n",
      "Requirement already satisfied: pyrsistent!=0.17.0,!=0.17.1,!=0.17.2,>=0.14.0 in c:\\users\\motah\\appdata\\local\\programs\\python\\python311\\lib\\site-packages (from jsonschema->rembg) (0.19.3)\n",
      "Requirement already satisfied: coloredlogs in c:\\users\\motah\\appdata\\local\\programs\\python\\python311\\lib\\site-packages (from onnxruntime->rembg) (15.0.1)\n",
      "Requirement already satisfied: flatbuffers in c:\\users\\motah\\appdata\\local\\programs\\python\\python311\\lib\\site-packages (from onnxruntime->rembg) (23.3.3)\n",
      "Requirement already satisfied: packaging in c:\\users\\motah\\appdata\\local\\programs\\python\\python311\\lib\\site-packages (from onnxruntime->rembg) (23.0)\n",
      "Requirement already satisfied: protobuf in c:\\users\\motah\\appdata\\local\\programs\\python\\python311\\lib\\site-packages (from onnxruntime->rembg) (4.22.1)\n",
      "Requirement already satisfied: sympy in c:\\users\\motah\\appdata\\local\\programs\\python\\python311\\lib\\site-packages (from onnxruntime->rembg) (1.12)\n",
      "Requirement already satisfied: platformdirs>=2.5.0 in c:\\users\\motah\\appdata\\local\\programs\\python\\python311\\lib\\site-packages (from pooch->rembg) (3.1.1)\n",
      "Requirement already satisfied: requests>=2.19.0 in c:\\users\\motah\\appdata\\local\\programs\\python\\python311\\lib\\site-packages (from pooch->rembg) (2.28.2)\n",
      "Requirement already satisfied: numba!=0.49.0 in c:\\users\\motah\\appdata\\local\\programs\\python\\python311\\lib\\site-packages (from pymatting->rembg) (0.58.1)\n",
      "Requirement already satisfied: networkx>=2.8 in c:\\users\\motah\\appdata\\local\\programs\\python\\python311\\lib\\site-packages (from scikit-image->rembg) (3.0)\n",
      "Requirement already satisfied: imageio>=2.27 in c:\\users\\motah\\appdata\\local\\programs\\python\\python311\\lib\\site-packages (from scikit-image->rembg) (2.33.0)\n",
      "Requirement already satisfied: tifffile>=2022.8.12 in c:\\users\\motah\\appdata\\local\\programs\\python\\python311\\lib\\site-packages (from scikit-image->rembg) (2023.9.26)\n",
      "Requirement already satisfied: lazy_loader>=0.3 in c:\\users\\motah\\appdata\\local\\programs\\python\\python311\\lib\\site-packages (from scikit-image->rembg) (0.3)\n",
      "Requirement already satisfied: colorama in c:\\users\\motah\\appdata\\local\\programs\\python\\python311\\lib\\site-packages (from tqdm->rembg) (0.4.6)\n",
      "Requirement already satisfied: llvmlite<0.42,>=0.41.0dev0 in c:\\users\\motah\\appdata\\local\\programs\\python\\python311\\lib\\site-packages (from numba!=0.49.0->pymatting->rembg) (0.41.1)\n",
      "Requirement already satisfied: charset-normalizer<4,>=2 in c:\\users\\motah\\appdata\\local\\programs\\python\\python311\\lib\\site-packages (from requests>=2.19.0->pooch->rembg) (3.1.0)\n",
      "Requirement already satisfied: idna<4,>=2.5 in c:\\users\\motah\\appdata\\local\\programs\\python\\python311\\lib\\site-packages (from requests>=2.19.0->pooch->rembg) (3.4)\n",
      "Requirement already satisfied: urllib3<1.27,>=1.21.1 in c:\\users\\motah\\appdata\\local\\programs\\python\\python311\\lib\\site-packages (from requests>=2.19.0->pooch->rembg) (1.26.15)\n",
      "Requirement already satisfied: certifi>=2017.4.17 in c:\\users\\motah\\appdata\\local\\programs\\python\\python311\\lib\\site-packages (from requests>=2.19.0->pooch->rembg) (2022.12.7)\n",
      "Requirement already satisfied: humanfriendly>=9.1 in c:\\users\\motah\\appdata\\local\\programs\\python\\python311\\lib\\site-packages (from coloredlogs->onnxruntime->rembg) (10.0)\n",
      "Requirement already satisfied: mpmath>=0.19 in c:\\users\\motah\\appdata\\local\\programs\\python\\python311\\lib\\site-packages (from sympy->onnxruntime->rembg) (1.3.0)\n",
      "Requirement already satisfied: pyreadline3 in c:\\users\\motah\\appdata\\local\\programs\\python\\python311\\lib\\site-packages (from humanfriendly>=9.1->coloredlogs->onnxruntime->rembg) (3.4.1)\n"
     ]
    }
   ],
   "source": [
    "pip install rembg"
   ]
  },
  {
   "cell_type": "code",
   "execution_count": 3,
   "metadata": {},
   "outputs": [
    {
     "name": "stdout",
     "output_type": "stream",
     "text": [
      "Note: you may need to restart the kernel to use updated packages.\n"
     ]
    },
    {
     "name": "stderr",
     "output_type": "stream",
     "text": [
      "ERROR: Could not find a version that satisfies the requirement PIL (from versions: none)\n",
      "ERROR: No matching distribution found for PIL\n",
      "\n",
      "[notice] A new release of pip is available: 23.0.1 -> 23.3.1\n",
      "[notice] To update, run: python.exe -m pip install --upgrade pip\n"
     ]
    }
   ],
   "source": [
    "pip install PIL"
   ]
  },
  {
   "cell_type": "code",
   "execution_count": 5,
   "metadata": {},
   "outputs": [],
   "source": [
    "import os\n",
    "from PIL import Image\n",
    "import numpy as np\n",
    "import io\n",
    "import rembg\n",
    "\n",
    "def remove_background(input_folder, output_folder, prefix=\"processed_\"):\n",
    "    # Ensure the output folder exists\n",
    "    if not os.path.exists(output_folder):\n",
    "        os.makedirs(output_folder)\n",
    "\n",
    "    # List all files in the input folder\n",
    "    files = os.listdir(input_folder)\n",
    "\n",
    "    for file_name in files:\n",
    "        input_path = os.path.join(input_folder, file_name)\n",
    "\n",
    "        # Check if the file is a valid image file (you may want to add more checks)\n",
    "        if os.path.isfile(input_path) and file_name.lower().endswith(('.png', '.jpg', '.jpeg')):\n",
    "            output_path = os.path.join(output_folder, prefix + file_name)\n",
    "\n",
    "            with open(input_path, \"rb\") as input_file:\n",
    "                input_data = input_file.read()\n",
    "                output_data = rembg.remove(input_data)\n",
    "\n",
    "            # Convert the output data to a NumPy array\n",
    "            output_array = np.frombuffer(output_data, dtype=np.uint8)\n",
    "\n",
    "            # Decode the array into an image\n",
    "            output_image = Image.open(io.BytesIO(output_array))\n",
    "\n",
    "            # Convert the image to RGBA if it's not already\n",
    "            if output_image.mode != 'RGBA':\n",
    "                output_image = output_image.convert('RGBA')\n",
    "\n",
    "            # Create a black background image\n",
    "            black_background = Image.new('RGBA', output_image.size, (0, 0, 0, 255))\n",
    "\n",
    "            # Composite the images, using the alpha channel of the output image as a mask\n",
    "            result = Image.alpha_composite(black_background, output_image)\n",
    "\n",
    "            # Save the result to the output path\n",
    "            result.save(output_path, format='PNG')\n",
    "\n",
    "if __name__ == \"__main__\":\n",
    "    input_folder_path = \"C:\\\\Tahsin\\\\Give Dataset Path Here\"\n",
    "    output_folder_path = \"C:\\\\Users\\\\Give Destination Path Here\"\n",
    "\n",
    "    remove_background(input_folder_path, output_folder_path)\n"
   ]
  }
 ],
 "metadata": {
  "kernelspec": {
   "display_name": "Python 3",
   "language": "python",
   "name": "python3"
  },
  "language_info": {
   "codemirror_mode": {
    "name": "ipython",
    "version": 3
   },
   "file_extension": ".py",
   "mimetype": "text/x-python",
   "name": "python",
   "nbconvert_exporter": "python",
   "pygments_lexer": "ipython3",
   "version": "3.11.2"
  }
 },
 "nbformat": 4,
 "nbformat_minor": 2
}
